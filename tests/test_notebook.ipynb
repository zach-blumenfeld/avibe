{
 "cells": [
  {
   "cell_type": "code",
   "id": "test-async-cell",
   "metadata": {
    "ExecuteTime": {
     "end_time": "2025-03-22T20:44:26.021461Z",
     "start_time": "2025-03-22T20:44:26.007745Z"
    }
   },
   "source": [
    "from avibe import run_async_function\n",
    "import asyncio\n\n",
    "async def sample_async_function(x, y):\n",
    "    return x + y\n\n",
    "# Call the async function using run_async_function\n",
    "result = run_async_function(sample_async_function, 6, 7)\n",
    "assert result == 13  # Expected result"
   ],
   "outputs": [],
   "execution_count": 1
  }
 ],
 "metadata": {
  "kernelspec": {
   "display_name": "Python 3",
   "language": "python",
   "name": "python3"
  },
  "language_info": {
   "codemirror_mode": {
    "name": "ipython",
    "version": 3
   },
   "file_extension": ".py",
   "mimetype": "text/x-python",
   "name": "python",
   "nbconvert_exporter": "python",
   "pygments_lexer": "ipython3",
   "version": "3.9.6"
  }
 },
 "nbformat": 4,
 "nbformat_minor": 5
}
